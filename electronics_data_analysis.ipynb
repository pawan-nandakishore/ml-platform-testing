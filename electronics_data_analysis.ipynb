{
 "cells": [
  {
   "cell_type": "code",
   "execution_count": 1,
   "id": "selected-incidence",
   "metadata": {},
   "outputs": [],
   "source": [
    "import pandas as pd\n",
    "import numpy as np\n",
    "import re \n",
    "from sklearn.model_selection import train_test_split\n",
    "from sklearn.preprocessing import LabelEncoder\n",
    "from sklearn.ensemble import RandomForestClassifier\n",
    "from sklearn.metrics import  accuracy_score, f1_score"
   ]
  },
  {
   "cell_type": "code",
   "execution_count": 2,
   "id": "regional-france",
   "metadata": {},
   "outputs": [],
   "source": [
    "# Read dataset\n",
    "df = pd.read_csv(\"electronics_data.csv\")\n"
   ]
  },
  {
   "cell_type": "code",
   "execution_count": 3,
   "id": "radio-atlanta",
   "metadata": {},
   "outputs": [],
   "source": [
    "# Pull weight float values from string\n",
    "df[\"cleaned_weight\"] = df['weight'].apply(lambda x:  re.findall(r'[\\d\\.\\d]+', x) )"
   ]
  },
  {
   "cell_type": "code",
   "execution_count": 4,
   "id": "sensitive-fence",
   "metadata": {},
   "outputs": [
    {
     "name": "stderr",
     "output_type": "stream",
     "text": [
      "<ipython-input-4-1d3e7fc71ce2>:4: SettingWithCopyWarning: \n",
      "A value is trying to be set on a copy of a slice from a DataFrame.\n",
      "Try using .loc[row_indexer,col_indexer] = value instead\n",
      "\n",
      "See the caveats in the documentation: https://pandas.pydata.org/pandas-docs/stable/user_guide/indexing.html#returning-a-view-versus-a-copy\n",
      "  weight_filtered[\"cleaned_weight\"] = weight_filtered[\"cleaned_weight\"].apply(lambda x : x[0])\n"
     ]
    }
   ],
   "source": [
    "# Only keep weight values that have 4 numbers. \n",
    "# There are a bunch of rows that have multiple weight values, ignore those\n",
    "weight_filtered = df[df[\"cleaned_weight\"].apply(lambda x: len(x) ==1)]\n",
    "weight_filtered[\"cleaned_weight\"] = weight_filtered[\"cleaned_weight\"].apply(lambda x : x[0])\n",
    "\n",
    "# Keep only the specified columns, just trying to simply  \n",
    "column_filtered  = weight_filtered[[\"prices.amountMax\",\"cleaned_weight\", \"prices.condition\", \"brand\", \"categories\"]]"
   ]
  },
  {
   "cell_type": "code",
   "execution_count": 5,
   "id": "eight-agency",
   "metadata": {},
   "outputs": [
    {
     "name": "stderr",
     "output_type": "stream",
     "text": [
      "<ipython-input-5-c82db012490e>:33: SettingWithCopyWarning: \n",
      "A value is trying to be set on a copy of a slice from a DataFrame.\n",
      "Try using .loc[row_indexer,col_indexer] = value instead\n",
      "\n",
      "See the caveats in the documentation: https://pandas.pydata.org/pandas-docs/stable/user_guide/indexing.html#returning-a-view-versus-a-copy\n",
      "  column_filtered[\"cleaned_condition\"] = column_filtered[\"prices.condition\"].apply(lambda x : clean_condition(x))\n",
      "<ipython-input-5-c82db012490e>:35: SettingWithCopyWarning: \n",
      "A value is trying to be set on a copy of a slice from a DataFrame.\n",
      "Try using .loc[row_indexer,col_indexer] = value instead\n",
      "\n",
      "See the caveats in the documentation: https://pandas.pydata.org/pandas-docs/stable/user_guide/indexing.html#returning-a-view-versus-a-copy\n",
      "  column_filtered[\"cleaned_cats\"] = column_filtered[\"categories\"].apply(lambda x: x.split(\",\")[-1])\n",
      "<ipython-input-5-c82db012490e>:36: SettingWithCopyWarning: \n",
      "A value is trying to be set on a copy of a slice from a DataFrame.\n",
      "Try using .loc[row_indexer,col_indexer] = value instead\n",
      "\n",
      "See the caveats in the documentation: https://pandas.pydata.org/pandas-docs/stable/user_guide/indexing.html#returning-a-view-versus-a-copy\n",
      "  column_filtered['cleaned_cats2'] = column_filtered[\"cleaned_cats\"].apply(lambda x: clean_category(x))\n"
     ]
    }
   ],
   "source": [
    "def clean_condition(row): \n",
    "    if \"new\" in row.lower(): \n",
    "        row = \"new\"\n",
    "    if \"refurbished\" in row.lower():\n",
    "        row = \"refurbished\"\n",
    "    return row \n",
    "\n",
    "def clean_category(row):\n",
    "    \n",
    "    if \"stereo\" in row.lower() or \"audio\" in row.lower():\n",
    "        row = \"audio\"\n",
    "    elif \"tv\" in row.lower() or \"television\" in row.lower():\n",
    "        row = \"tv\"\n",
    "    elif \"camera\" in row.lower():\n",
    "        row = \"camera\"\n",
    "    elif \"car\" in row.lower(): \n",
    "        row = \"car\"\n",
    "    elif \"tablet\" in row.lower():\n",
    "        row = \"tablet\"\n",
    "    elif \"speakers\" in row.lower():\n",
    "        row =\"speakers\"\n",
    "    elif \"computer\" in row.lower() or \"laptops\" in row.lower() :\n",
    "        row =\"computer\"\n",
    "    elif \"bridges\" in row.lower():\n",
    "        row = \"bridges\"\n",
    "    elif \"ipod\" in row.lower() and \"accessories\" not in row.lower():\n",
    "        row = \"ipod\"\n",
    "    elif \"A/V\" in row or \"AV\" in row: \n",
    "        row = \"AV related\"\n",
    "    return row\n",
    "\n",
    "# Cleaning price.condition column \n",
    "column_filtered[\"cleaned_condition\"] = column_filtered[\"prices.condition\"].apply(lambda x : clean_condition(x))\n",
    "# Clean the category column, do not use the categories columns for anything further\n",
    "column_filtered[\"cleaned_cats\"] = column_filtered[\"categories\"].apply(lambda x: x.split(\",\")[-1])\n",
    "column_filtered['cleaned_cats2'] = column_filtered[\"cleaned_cats\"].apply(lambda x: clean_category(x))\n"
   ]
  },
  {
   "cell_type": "code",
   "execution_count": 6,
   "id": "linear-attempt",
   "metadata": {},
   "outputs": [
    {
     "name": "stderr",
     "output_type": "stream",
     "text": [
      "<ipython-input-6-c1023e6b0cce>:6: SettingWithCopyWarning: \n",
      "A value is trying to be set on a copy of a slice from a DataFrame.\n",
      "Try using .loc[row_indexer,col_indexer] = value instead\n",
      "\n",
      "See the caveats in the documentation: https://pandas.pydata.org/pandas-docs/stable/user_guide/indexing.html#returning-a-view-versus-a-copy\n",
      "  column_filtered['encoded_brand']= le1.fit_transform(column_filtered['brand'])\n",
      "<ipython-input-6-c1023e6b0cce>:7: SettingWithCopyWarning: \n",
      "A value is trying to be set on a copy of a slice from a DataFrame.\n",
      "Try using .loc[row_indexer,col_indexer] = value instead\n",
      "\n",
      "See the caveats in the documentation: https://pandas.pydata.org/pandas-docs/stable/user_guide/indexing.html#returning-a-view-versus-a-copy\n",
      "  column_filtered['encoded_condition'] = le2.fit_transform(column_filtered['cleaned_condition'])\n",
      "<ipython-input-6-c1023e6b0cce>:8: SettingWithCopyWarning: \n",
      "A value is trying to be set on a copy of a slice from a DataFrame.\n",
      "Try using .loc[row_indexer,col_indexer] = value instead\n",
      "\n",
      "See the caveats in the documentation: https://pandas.pydata.org/pandas-docs/stable/user_guide/indexing.html#returning-a-view-versus-a-copy\n",
      "  column_filtered['encoded_cats'] = le3.fit_transform(column_filtered['cleaned_cats2'])\n"
     ]
    }
   ],
   "source": [
    "\n",
    "# Create label encoding \n",
    "le1 = LabelEncoder()\n",
    "le2 = LabelEncoder()\n",
    "le3 = LabelEncoder()\n",
    "\n",
    "column_filtered['encoded_brand']= le1.fit_transform(column_filtered['brand'])\n",
    "column_filtered['encoded_condition'] = le2.fit_transform(column_filtered['cleaned_condition'])\n",
    "column_filtered['encoded_cats'] = le3.fit_transform(column_filtered['cleaned_cats2'])\n",
    "\n",
    "column_all = column_filtered.drop(columns=[\"brand\", \n",
    "                                           \"cleaned_condition\",\n",
    "                                           \"categories\",\n",
    "                                           \"prices.condition\",\n",
    "                                           \"cleaned_cats2\",\n",
    "                                           \"cleaned_cats\"])"
   ]
  },
  {
   "cell_type": "code",
   "execution_count": 7,
   "id": "buried-density",
   "metadata": {},
   "outputs": [],
   "source": [
    "X = column_all.drop(columns=[\"encoded_brand\"])\n",
    "y = column_all[\"encoded_brand\"]"
   ]
  },
  {
   "cell_type": "code",
   "execution_count": 8,
   "id": "casual-vegetable",
   "metadata": {},
   "outputs": [],
   "source": [
    "\n",
    "x_train_val, x_test, y_train_val, y_test = train_test_split(X,y,test_size = 0.10, random_state=1)\n",
    "x_train, x_val, y_train, y_val = train_test_split(x_train_val, y_train_val, test_size = 0.20, random_state=1)\n"
   ]
  },
  {
   "cell_type": "code",
   "execution_count": 9,
   "id": "further-gothic",
   "metadata": {},
   "outputs": [
    {
     "data": {
      "text/html": [
       "<div>\n",
       "<style scoped>\n",
       "    .dataframe tbody tr th:only-of-type {\n",
       "        vertical-align: middle;\n",
       "    }\n",
       "\n",
       "    .dataframe tbody tr th {\n",
       "        vertical-align: top;\n",
       "    }\n",
       "\n",
       "    .dataframe thead th {\n",
       "        text-align: right;\n",
       "    }\n",
       "</style>\n",
       "<table border=\"1\" class=\"dataframe\">\n",
       "  <thead>\n",
       "    <tr style=\"text-align: right;\">\n",
       "      <th></th>\n",
       "      <th>prices.amountMax</th>\n",
       "      <th>cleaned_weight</th>\n",
       "      <th>encoded_condition</th>\n",
       "      <th>encoded_cats</th>\n",
       "    </tr>\n",
       "  </thead>\n",
       "  <tbody>\n",
       "    <tr>\n",
       "      <th>5284</th>\n",
       "      <td>248.00</td>\n",
       "      <td>5.9</td>\n",
       "      <td>1</td>\n",
       "      <td>204</td>\n",
       "    </tr>\n",
       "    <tr>\n",
       "      <th>5659</th>\n",
       "      <td>479.99</td>\n",
       "      <td>12.35</td>\n",
       "      <td>1</td>\n",
       "      <td>79</td>\n",
       "    </tr>\n",
       "    <tr>\n",
       "      <th>6309</th>\n",
       "      <td>1399.99</td>\n",
       "      <td>5.07</td>\n",
       "      <td>1</td>\n",
       "      <td>196</td>\n",
       "    </tr>\n",
       "    <tr>\n",
       "      <th>7052</th>\n",
       "      <td>99.99</td>\n",
       "      <td>4.2</td>\n",
       "      <td>1</td>\n",
       "      <td>202</td>\n",
       "    </tr>\n",
       "    <tr>\n",
       "      <th>6340</th>\n",
       "      <td>349.99</td>\n",
       "      <td>8.6</td>\n",
       "      <td>1</td>\n",
       "      <td>192</td>\n",
       "    </tr>\n",
       "    <tr>\n",
       "      <th>...</th>\n",
       "      <td>...</td>\n",
       "      <td>...</td>\n",
       "      <td>...</td>\n",
       "      <td>...</td>\n",
       "    </tr>\n",
       "    <tr>\n",
       "      <th>4273</th>\n",
       "      <td>1798.00</td>\n",
       "      <td>63.7</td>\n",
       "      <td>1</td>\n",
       "      <td>204</td>\n",
       "    </tr>\n",
       "    <tr>\n",
       "      <th>4387</th>\n",
       "      <td>22.06</td>\n",
       "      <td>4.34</td>\n",
       "      <td>1</td>\n",
       "      <td>87</td>\n",
       "    </tr>\n",
       "    <tr>\n",
       "      <th>3354</th>\n",
       "      <td>193.93</td>\n",
       "      <td>3.7</td>\n",
       "      <td>1</td>\n",
       "      <td>194</td>\n",
       "    </tr>\n",
       "    <tr>\n",
       "      <th>5557</th>\n",
       "      <td>94.99</td>\n",
       "      <td>19.8</td>\n",
       "      <td>1</td>\n",
       "      <td>196</td>\n",
       "    </tr>\n",
       "    <tr>\n",
       "      <th>3548</th>\n",
       "      <td>1997.99</td>\n",
       "      <td>8.00</td>\n",
       "      <td>1</td>\n",
       "      <td>204</td>\n",
       "    </tr>\n",
       "  </tbody>\n",
       "</table>\n",
       "<p>4736 rows × 4 columns</p>\n",
       "</div>"
      ],
      "text/plain": [
       "      prices.amountMax cleaned_weight  encoded_condition  encoded_cats\n",
       "5284            248.00            5.9                  1           204\n",
       "5659            479.99          12.35                  1            79\n",
       "6309           1399.99           5.07                  1           196\n",
       "7052             99.99            4.2                  1           202\n",
       "6340            349.99            8.6                  1           192\n",
       "...                ...            ...                ...           ...\n",
       "4273           1798.00           63.7                  1           204\n",
       "4387             22.06           4.34                  1            87\n",
       "3354            193.93            3.7                  1           194\n",
       "5557             94.99           19.8                  1           196\n",
       "3548           1997.99           8.00                  1           204\n",
       "\n",
       "[4736 rows x 4 columns]"
      ]
     },
     "execution_count": 9,
     "metadata": {},
     "output_type": "execute_result"
    }
   ],
   "source": [
    "x_train"
   ]
  },
  {
   "cell_type": "code",
   "execution_count": 10,
   "id": "afraid-sunday",
   "metadata": {},
   "outputs": [],
   "source": [
    "rfc = RandomForestClassifier()\n",
    "rfc.fit(x_train, y_train)\n",
    "pred_val = rfc.predict(x_val)\n"
   ]
  },
  {
   "cell_type": "code",
   "execution_count": 11,
   "id": "administrative-soccer",
   "metadata": {},
   "outputs": [
    {
     "data": {
      "text/plain": [
       "(0.950168918918919, 0.9535023435583719)"
      ]
     },
     "execution_count": 11,
     "metadata": {},
     "output_type": "execute_result"
    }
   ],
   "source": [
    "accuracy_score(pred_val, y_val), f1_score(pred_val, y_val, average=\"weighted\")"
   ]
  },
  {
   "cell_type": "code",
   "execution_count": null,
   "id": "specific-triple",
   "metadata": {},
   "outputs": [],
   "source": []
  },
  {
   "cell_type": "code",
   "execution_count": 14,
   "id": "combined-proposal",
   "metadata": {},
   "outputs": [],
   "source": []
  },
  {
   "cell_type": "code",
   "execution_count": null,
   "id": "industrial-munich",
   "metadata": {},
   "outputs": [],
   "source": []
  },
  {
   "cell_type": "code",
   "execution_count": null,
   "id": "determined-charge",
   "metadata": {},
   "outputs": [],
   "source": []
  },
  {
   "cell_type": "raw",
   "id": "excess-stupid",
   "metadata": {},
   "source": []
  },
  {
   "cell_type": "code",
   "execution_count": null,
   "id": "linear-burden",
   "metadata": {},
   "outputs": [],
   "source": []
  }
 ],
 "metadata": {
  "kernelspec": {
   "display_name": "Python 3",
   "language": "python",
   "name": "python3"
  },
  "language_info": {
   "codemirror_mode": {
    "name": "ipython",
    "version": 3
   },
   "file_extension": ".py",
   "mimetype": "text/x-python",
   "name": "python",
   "nbconvert_exporter": "python",
   "pygments_lexer": "ipython3",
   "version": "3.8.5"
  }
 },
 "nbformat": 4,
 "nbformat_minor": 5
}
